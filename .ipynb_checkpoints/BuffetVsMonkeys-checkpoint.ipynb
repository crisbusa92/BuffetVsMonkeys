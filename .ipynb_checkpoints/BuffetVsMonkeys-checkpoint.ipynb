{
 "cells": [
  {
   "cell_type": "code",
   "execution_count": 1,
   "metadata": {},
   "outputs": [],
   "source": [
    "import yfinance as yf\n",
    "import pandas as pd\n",
    "import matplotlib.pyplot as plt\n",
    "import random as rd\n",
    "import numpy as np\n"
   ]
  },
  {
   "cell_type": "code",
   "execution_count": 41,
   "metadata": {
    "scrolled": false
   },
   "outputs": [
    {
     "data": {
      "text/plain": [
       "6093"
      ]
     },
     "execution_count": 41,
     "metadata": {},
     "output_type": "execute_result"
    }
   ],
   "source": [
    "#Import CSV and Create Ticker List\n",
    "nyse = pd.read_csv('Resources/companylist.csv')\n",
    "nasdaq = pd.read_csv('Resources/NASDAQ.txt')\n",
    "tickers = list(nyse['Symbol'])+list(nasdaq['Symbol'])\n",
    "\n",
    "len(tickers)"
   ]
  },
  {
   "cell_type": "code",
   "execution_count": null,
   "metadata": {},
   "outputs": [],
   "source": [
    "#Ask user for first choice (whether build their own portfolio, or have a monkey doing it)\n",
    "while True:\n",
    "    fch = input(\"Do you want to 1) build your own portfolio, or do you want 2) a monkey to help you with? Choose either 1 or 2: \")\n",
    "    if fch != str(1) and fch != str(2):\n",
    "        print(f'Please choose a valid option')\n",
    "        continue\n",
    "    else:\n",
    "        break\n",
    "\n",
    "#User wants to build their own portfolio\n",
    "if fch == \"1\":\n",
    "#Ask how many Companies he/she wants\n",
    "    while True:\n",
    "        numInput = input(\"How many Companies do you want to be in your portfolio?: \")\n",
    "        if int(numInput) <= 1:\n",
    "            print(\"You must have at least two Companies in your portfolio! Please choose again.\")\n",
    "            continue\n",
    "        else:\n",
    "            break\n",
    "\n",
    "#Allow the user to input their Companies, limited by numC\n",
    "while True:\n",
    "    tckrs = []\n",
    "    for comps in range(int(numInput)):\n",
    "        compsInput = input(f'Please select your Ticker: ' )\n",
    "        try:\n",
    "            nyse_df.loc[nyse_df['Symbol']==comps]\n",
    "        except NameError:\n",
    "            print('We cannot find this Ticker, please select a valid one: ')\n",
    "            continue\n",
    "        #if comp_true == empty:\n",
    "            #print('We cannot find this Ticker, please select a valid one: ')\n",
    "            #continue\n",
    "        #else:\n",
    "            #tckrs.append(compsInput)\n",
    "            #break\n",
    "\n",
    "#Corroborate the choices are valid\n",
    "#nyse_df = pd.DataFrame(nyse)\n",
    "\n",
    "    #for x in tckrs:\n",
    "        #comp_true = \n",
    "        #if comp_true == False:\n",
    "            #print('We cannot find this Ticker, please select a valid one: ')\n",
    "    "
   ]
  },
  {
   "cell_type": "code",
   "execution_count": 43,
   "metadata": {},
   "outputs": [
    {
     "name": "stdout",
     "output_type": "stream",
     "text": [
      "How many Companies do you want to be in your portfolio?: 5\n"
     ]
    }
   ],
   "source": [
    "\n"
   ]
  },
  {
   "cell_type": "code",
   "execution_count": 38,
   "metadata": {
    "scrolled": true
   },
   "outputs": [],
   "source": [
    "#Set Seed\n",
    "rd.seed(a=1930)\n",
    "\n",
    "#make Random Portfolios\n",
    "stocks = []\n",
    "weights = []\n",
    "for stock in range(1000):\n",
    "    randomS = rd.sample(tickers, 30)\n",
    "    stocks.append(randomS)\n",
    "    randomW = list(np.random.dirichlet(np.ones(30),size=1))\n",
    "    weights.append(randomW)\n"
   ]
  },
  {
   "cell_type": "code",
   "execution_count": null,
   "metadata": {},
   "outputs": [],
   "source": [
    "stocks"
   ]
  },
  {
   "cell_type": "code",
   "execution_count": null,
   "metadata": {},
   "outputs": [],
   "source": []
  }
 ],
 "metadata": {
  "kernelspec": {
   "display_name": "Python [conda env:PythonData1]",
   "language": "python",
   "name": "conda-env-PythonData1-py"
  },
  "language_info": {
   "codemirror_mode": {
    "name": "ipython",
    "version": 3
   },
   "file_extension": ".py",
   "mimetype": "text/x-python",
   "name": "python",
   "nbconvert_exporter": "python",
   "pygments_lexer": "ipython3",
   "version": "3.6.10"
  }
 },
 "nbformat": 4,
 "nbformat_minor": 4
}
