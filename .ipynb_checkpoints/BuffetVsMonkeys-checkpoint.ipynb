{
 "cells": [
  {
   "cell_type": "code",
<<<<<<< HEAD
<<<<<<< HEAD
   "execution_count": 1,
=======
   "execution_count": 107,
>>>>>>> b4d2d78d99f620a3292025de2790bdcb072328e6
=======
   "execution_count": 168,
>>>>>>> efdde2f6761dac5735f1a82254e9c92c84765fe9
   "metadata": {},
   "outputs": [],
   "source": [
    "import yfinance as yf\n",
    "import pandas as pd\n",
    "import matplotlib.pyplot as plt\n",
    "import random as rd\n",
<<<<<<< HEAD
    "import numpy as np\n"
=======
    "import numpy as np\n",
<<<<<<< HEAD
    "#Set Seed\n",
    "rd.seed(1930)"
>>>>>>> b4d2d78d99f620a3292025de2790bdcb072328e6
=======
    "import seaborn as sns\n",
    "import matplotlib.ticker as ticker"
>>>>>>> efdde2f6761dac5735f1a82254e9c92c84765fe9
   ]
  },
  {
   "cell_type": "code",
<<<<<<< HEAD
<<<<<<< HEAD
   "execution_count": 41,
   "metadata": {
    "scrolled": false
   },
   "outputs": [
    {
     "data": {
      "text/plain": [
       "6093"
      ]
     },
     "execution_count": 41,
     "metadata": {},
     "output_type": "execute_result"
    }
   ],
   "source": [
    "#Import CSV and Create Ticker List\n",
    "nyse = pd.read_csv('Resources/companylist.csv')\n",
    "nasdaq = pd.read_csv('Resources/NASDAQ.txt')\n",
    "tickers = list(nyse['Symbol'])+list(nasdaq['Symbol'])\n",
    "\n",
    "len(tickers)"
=======
   "execution_count": 108,
=======
   "execution_count": 48,
>>>>>>> efdde2f6761dac5735f1a82254e9c92c84765fe9
   "metadata": {
    "scrolled": false
   },
   "outputs": [],
   "source": [
    "#Import CSV and Create Ticker List\n",
    "SP500 = pd.read_csv('Resources/companylistsp500.csv')\n",
    "#nasdaq = pd.read_csv('Resources/NASDAQ.txt')\n",
<<<<<<< HEAD
    "tickers = list(SP500['Symbol'])"
>>>>>>> b4d2d78d99f620a3292025de2790bdcb072328e6
=======
    "tickers = list(SP500['Symbol'])\n"
>>>>>>> efdde2f6761dac5735f1a82254e9c92c84765fe9
   ]
  },
  {
   "cell_type": "code",
<<<<<<< HEAD
<<<<<<< HEAD
   "execution_count": null,
   "metadata": {},
   "outputs": [],
   "source": [
    "#Ask user for first choice (whether build their own portfolio, or have a monkey doing it)\n",
    "while True:\n",
    "    fch = input(\"Do you want to 1) build your own portfolio, or do you want 2) a monkey to help you with? Choose either 1 or 2: \")\n",
    "    if fch != str(1) and fch != str(2):\n",
    "        print(f'Please choose a valid option')\n",
    "        continue\n",
    "    else:\n",
    "        break\n",
    "\n",
    "#User wants to build their own portfolio\n",
    "if fch == \"1\":\n",
    "#Ask how many Companies he/she wants\n",
    "    while True:\n",
    "        numInput = input(\"How many Companies do you want to be in your portfolio?: \")\n",
    "        if int(numInput) <= 1:\n",
    "            print(\"You must have at least two Companies in your portfolio! Please choose again.\")\n",
    "            continue\n",
    "        else:\n",
    "            break\n",
    "\n",
    "#Allow the user to input their Companies, limited by numC\n",
    "while True:\n",
    "    tckrs = []\n",
    "    for comps in range(int(numInput)):\n",
    "        compsInput = input(f'Please select your Ticker: ' )\n",
    "        try:\n",
    "            nyse_df.loc[nyse_df['Symbol']==comps]\n",
    "        except NameError:\n",
    "            print('We cannot find this Ticker, please select a valid one: ')\n",
    "            continue\n",
    "        #if comp_true == empty:\n",
    "            #print('We cannot find this Ticker, please select a valid one: ')\n",
    "            #continue\n",
    "        #else:\n",
    "            #tckrs.append(compsInput)\n",
    "            #break\n",
    "\n",
    "#Corroborate the choices are valid\n",
    "#nyse_df = pd.DataFrame(nyse)\n",
    "\n",
    "    #for x in tckrs:\n",
    "        #comp_true = \n",
    "        #if comp_true == False:\n",
    "            #print('We cannot find this Ticker, please select a valid one: ')\n",
    "    "
=======
   "execution_count": 109,
=======
   "execution_count": 244,
>>>>>>> efdde2f6761dac5735f1a82254e9c92c84765fe9
   "metadata": {},
   "outputs": [],
   "source": [
    "#Import CSV and Create Fund List\n",
    "fundsfile = pd.read_csv('Resources/funds.csv')\n",
    "#nasdaq = pd.read_csv('Resources/NASDAQ.txt')\n",
    "funds = list(fundsfile['Symbol'])\n"
   ]
  },
  {
   "cell_type": "code",
   "execution_count": 245,
   "metadata": {},
   "outputs": [],
   "source": [
    "def sp500_returns(symbols,period = '5y'):\n",
    "    tickers_profit = []\n",
    "    for x in symbols:\n",
    "        ticker = yf.Ticker(str(x))\n",
    "        hist = ticker.history(period=period).dropna()\n",
    "        profit = (hist.loc[hist.index[len(hist)-1], 'Close']/hist.loc[hist.index[0], 'Close'])-1\n",
    "        tickers_profit.append(profit)\n",
    "    sp5y = pd.DataFrame()\n",
    "    sp5y['Ticker'] = list(symbols)\n",
    "    sp5y['5yr Return'] = tickers_profit\n",
    "    \n",
    "\n",
    "    return sp5y\n",
    "\n",
    "\n"
   ]
  },
  {
   "cell_type": "code",
   "execution_count": 49,
   "metadata": {},
   "outputs": [],
   "source": [
    "#generate random portfolios with nmonkeys number of portfolios and nstocks number of stocks\n",
    "\n",
    "def dart_monkeys(symbols,nmonkeys = 10,nstocks = 30):\n",
    "    #set random weights for each stock in monkey portfolio\n",
    "    weights = []\n",
    "    for i in range(nmonkeys):\n",
    "        randomlist = rd.sample(range(1, 99), nstocks)\n",
    "        dby = sum(randomlist)\n",
    "        rws = []\n",
    "        for x in randomlist:\n",
    "            rw = x/dby\n",
    "            rws.append(rw)\n",
    "        weights.append(rws)\n",
    "    #Select random stocks for each stock in monkey portfolio\n",
    "    stocks = []\n",
    "    for stock in range(nmonkeys):\n",
    "        randomS = rd.sample(symbols, nstocks)\n",
    "        stocks.append(randomS)\n",
    "    out = []\n",
    "    #Generate DICT list with random stocks and weights\n",
    "    for i in range (nmonkeys):\n",
    "        d = dict(zip(stocks[i],weights[i]))\n",
    "        out.append(d)\n",
    "    \n",
    "    return out\n"
>>>>>>> b4d2d78d99f620a3292025de2790bdcb072328e6
   ]
  },
  {
   "cell_type": "code",
<<<<<<< HEAD
<<<<<<< HEAD
   "execution_count": 43,
   "metadata": {},
   "outputs": [
    {
     "name": "stdout",
     "output_type": "stream",
     "text": [
      "How many Companies do you want to be in your portfolio?: 5\n"
=======
   "execution_count": 125,
=======
   "execution_count": 40,
>>>>>>> efdde2f6761dac5735f1a82254e9c92c84765fe9
   "metadata": {},
   "outputs": [],
   "source": [
    "#definir en documentación estructura de DF\n",
    "def monkey_returns(DF,diclist):\n",
    "    returns = []\n",
    "    for x in diclist:\n",
    "        #Obtaining Weights\n",
    "        suma = 0\n",
    "        for y in x.keys():\n",
    "            #Sum \n",
    "            suma += float(DF[DF['Ticker'] == y]['5yr Return']) * x[y]\n",
    "        suma = suma/len(x.keys())\n",
    "        returns.append(suma)\n",
    "\n",
    "    return returns\n"
   ]
  },
  {
   "cell_type": "code",
   "execution_count": 261,
   "metadata": {},
<<<<<<< HEAD
   "outputs": [
    {
     "ename": "TypeError",
     "evalue": "list indices must be integers or slices, not dict",
     "output_type": "error",
     "traceback": [
      "\u001b[0;31m---------------------------------------------------------------------------\u001b[0m",
      "\u001b[0;31mTypeError\u001b[0m                                 Traceback (most recent call last)",
      "\u001b[0;32m<ipython-input-147-e30930b3b02b>\u001b[0m in \u001b[0;36m<module>\u001b[0;34m\u001b[0m\n\u001b[1;32m      1\u001b[0m \u001b[0mreturns\u001b[0m \u001b[0;34m=\u001b[0m \u001b[0;34m[\u001b[0m\u001b[0;34m]\u001b[0m\u001b[0;34m\u001b[0m\u001b[0;34m\u001b[0m\u001b[0m\n\u001b[1;32m      2\u001b[0m \u001b[0;32mfor\u001b[0m \u001b[0mi\u001b[0m \u001b[0;32min\u001b[0m \u001b[0mtest\u001b[0m\u001b[0;34m:\u001b[0m\u001b[0;34m\u001b[0m\u001b[0;34m\u001b[0m\u001b[0m\n\u001b[0;32m----> 3\u001b[0;31m     \u001b[0mstock\u001b[0m\u001b[0;34m=\u001b[0m\u001b[0mlist\u001b[0m\u001b[0;34m(\u001b[0m\u001b[0mtest\u001b[0m\u001b[0;34m[\u001b[0m\u001b[0mi\u001b[0m\u001b[0;34m]\u001b[0m\u001b[0;34m.\u001b[0m\u001b[0mkeys\u001b[0m\u001b[0;34m(\u001b[0m\u001b[0;34m)\u001b[0m\u001b[0;34m)\u001b[0m\u001b[0;34m\u001b[0m\u001b[0;34m\u001b[0m\u001b[0m\n\u001b[0m\u001b[1;32m      4\u001b[0m     \u001b[0mweight\u001b[0m\u001b[0;34m=\u001b[0m\u001b[0mtest\u001b[0m\u001b[0;34m[\u001b[0m\u001b[0mi\u001b[0m\u001b[0;34m]\u001b[0m\u001b[0;34m.\u001b[0m\u001b[0mvalues\u001b[0m\u001b[0;34m(\u001b[0m\u001b[0;34m)\u001b[0m\u001b[0;34m\u001b[0m\u001b[0;34m\u001b[0m\u001b[0m\n\u001b[1;32m      5\u001b[0m     \u001b[0;32mfor\u001b[0m \u001b[0mx\u001b[0m \u001b[0;32min\u001b[0m \u001b[0mlen\u001b[0m\u001b[0;34m(\u001b[0m\u001b[0mtest\u001b[0m\u001b[0;34m[\u001b[0m\u001b[0mi\u001b[0m\u001b[0;34m]\u001b[0m\u001b[0;34m)\u001b[0m\u001b[0;34m:\u001b[0m\u001b[0;34m\u001b[0m\u001b[0;34m\u001b[0m\u001b[0m\n",
      "\u001b[0;31mTypeError\u001b[0m: list indices must be integers or slices, not dict"
>>>>>>> b4d2d78d99f620a3292025de2790bdcb072328e6
     ]
    }
   ],
   "source": [
<<<<<<< HEAD
    "\n"
=======
    "returns = []\n",
    "for i in test:\n",
    "    stock=list(test[i].keys())  \n",
    "    weight=test[i].values()\n",
    "    for x in len(test[i]):\n",
    "        a = sp500.loc[sp500['Ticker']==stock[x-1],'5yr Return']*weight[x-1]\n",
    "        returns.append(a)\n",
    "returns"
>>>>>>> b4d2d78d99f620a3292025de2790bdcb072328e6
=======
   "outputs": [],
   "source": [
    "def annualizer(listOfReturns,YearlyPeriod):\n",
    "    annualizedr = []\n",
    "    for x in listOfReturns:    \n",
    "        a = x/YearlyPeriod\n",
    "        annualizedr.append(a)\n",
    "    return pd.Series(annualizedr)"
>>>>>>> efdde2f6761dac5735f1a82254e9c92c84765fe9
   ]
  },
  {
   "cell_type": "code",
<<<<<<< HEAD
<<<<<<< HEAD
   "execution_count": 38,
   "metadata": {
    "scrolled": true
   },
   "outputs": [],
   "source": [
    "#Set Seed\n",
    "rd.seed(a=1930)\n",
    "\n",
    "#make Random Portfolios\n",
    "stocks = []\n",
    "weights = []\n",
    "for stock in range(1000):\n",
    "    randomS = rd.sample(tickers, 30)\n",
    "    stocks.append(randomS)\n",
    "    randomW = list(np.random.dirichlet(np.ones(30),size=1))\n",
    "    weights.append(randomW)\n"
=======
   "execution_count": null,
   "metadata": {},
   "outputs": [],
   "source": [
    "#calculate average return for the whole portfolio\n",
    "#if i mod 30 corte en la lista y genere una nueva lista\n",
    "for x in out:\n",
    "    tickers = list(x.keys())\n",
    "    tw = list(x.values())\n",
    "    \n"
>>>>>>> b4d2d78d99f620a3292025de2790bdcb072328e6
=======
   "execution_count": 132,
   "metadata": {},
   "outputs": [],
   "source": [
    "def no_ticker_data(symbols,period = '5y'):\n",
    "    tickers_profit = []\n",
    "    Not_Available_Data = []\n",
    "    for x in symbols:\n",
    "        try:\n",
    "            ticker = yf.Ticker(x)\n",
    "            hist = ticker.history(period=period).dropna()\n",
    "            profit = (hist.loc[hist.index[len(hist)-1], 'Close']/hist.loc[hist.index[0], 'Close'])-1\n",
    "            tickers_profit.append(profit)\n",
    "        \n",
    "        except:\n",
    "            Not_Available_Data.append(x)\n",
    "    return Not_Available_Data\n"
>>>>>>> efdde2f6761dac5735f1a82254e9c92c84765fe9
   ]
  },
  {
   "cell_type": "code",
   "execution_count": 151,
   "metadata": {},
   "outputs": [],
   "source": [
<<<<<<< HEAD
<<<<<<< HEAD
    "stocks"
=======
    "rend_USUARIO = 0.037\n",
    "rend_Changos = [0.066,0.066,0.066,0.066,0.066,0.066,0.066,0.066,0.066,0.066,0.066,0.066,0.066,0.066,0.066,0.066]\n",
    "rend_expertos = [0.055,0.066,0.055,0.066,0.055,0.066,0.055,0.066,0.055,0.066,0.055,0.066,0.055,0.066,0.055,0.066]\n",
    "PromedioRSPY = 0.05"
=======
    "def remove_outlier(df_in, col_name):\n",
    "    q1 = df_in[col_name].quantile(0.25)\n",
    "    q3 = df_in[col_name].quantile(0.75)\n",
    "    iqr = q3-q1 #Interquartile range\n",
    "    fence_low  = q1-1.5*iqr\n",
    "    fence_high = q3+1.5*iqr\n",
    "    df_out = df_in.loc[(df_in[col_name] > fence_low) & (df_in[col_name] < fence_high)]\n",
    "    return df_out"
>>>>>>> efdde2f6761dac5735f1a82254e9c92c84765fe9
   ]
  },
  {
   "cell_type": "code",
   "execution_count": 247,
   "metadata": {},
   "outputs": [
    {
     "data": {
      "image/png": "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\n",
      "text/plain": [
       "<Figure size 432x288 with 1 Axes>"
      ]
     },
     "metadata": {
      "needs_background": "light"
     },
     "output_type": "display_data"
    }
   ],
   "source": [
    "# Random Returns Histogram\n",
    "bins = np.arange(-1, 1, 0.001) # fixed bin size\n",
    "\n",
    "plt.xlim([-0.05,0.75])\n",
    "\n",
    "plt.hist(annualizedr, bins=bins, alpha=1)\n",
    "plt.title('Random Stocks Return')\n",
    "plt.xlabel(\"Annualized Return\")\n",
    "plt.ylabel('Count')\n",
    "plt.axvline(0.05892, color='k', linestyle='dashed', linewidth=2, animated = True,label='Mean')\n",
    "plt.axvline(0.0509, color='violet', linestyle='dashed', linewidth=2, animated = True,label='Median')\n",
    "plt.axvline(0.032, color='y', linestyle='dashed', linewidth=2, animated = True, label='USD Inflation')\n",
    "plt.axvline(0.064, color='r', linestyle='dashed', linewidth=2, animated = True,label='SPY Return')\n",
    "plt.legend(loc ='upper right')\n",
    "plt.show()"
   ]
  },
  {
   "cell_type": "code",
   "execution_count": 200,
   "metadata": {},
   "outputs": [
    {
     "data": {
      "text/plain": [
       "Text(0.5, 1.0, 'Monkey Returns')"
      ]
     },
     "execution_count": 200,
     "metadata": {},
     "output_type": "execute_result"
    },
    {
     "data": {
      "image/png": "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\n",
      "text/plain": [
       "<Figure size 432x288 with 1 Axes>"
      ]
     },
     "metadata": {
      "needs_background": "light"
     },
     "output_type": "display_data"
    }
   ],
   "source": [
    "#Plot Monkeys Data\n",
    "yroutliers = remove_outlier(andf,0)\n",
    "sns.boxplot(data = yroutliers)\n",
    "plt.axhline(0.05892, color='k', linestyle='dashed', linewidth=2, animated = True,label='Mean')\n",
    "#plt.axhline(0.0509, color='violet', linestyle='dashed', linewidth=2, animated = True,label='Median')\n",
    "plt.axhline(0.032, color='y', linestyle='dashed', linewidth=2, animated = True, label='USD Inflation')\n",
    "plt.axhline(0.064, color='r', linestyle='dashed', linewidth=2, animated = True,label='SPY Return')\n",
    "plt.legend(loc ='upper right')\n",
    "plt.title(label = 'Monkey Returns')\n"
   ]
  },
  {
   "cell_type": "code",
   "execution_count": 264,
   "metadata": {},
   "outputs": [
    {
     "data": {
      "text/plain": [
       "Text(0.5, 1.0, 'Fund Returns')"
      ]
     },
     "execution_count": 264,
     "metadata": {},
     "output_type": "execute_result"
    },
    {
     "data": {
      "image/png": "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\n",
      "text/plain": [
       "<Figure size 432x288 with 1 Axes>"
      ]
     },
     "metadata": {
      "needs_background": "light"
     },
     "output_type": "display_data"
    }
   ],
   "source": [
    "#Plot Fund Data\n",
    "sns.boxplot(data = AF)\n",
    "plt.axhline(0.05892, color='k', linestyle='dashed', linewidth=2, animated = True,label='Mean')\n",
    "#plt.axhline(0.0509, color='violet', linestyle='dashed', linewidth=2, animated = True,label='Median')\n",
    "plt.axhline(0.032, color='y', linestyle='dashed', linewidth=2, animated = True, label='USD Inflation')\n",
    "plt.axhline(0.064, color='r', linestyle='dashed', linewidth=2, animated = True,label='SPY Return')\n",
    "plt.legend(loc ='upper right')\n",
    "plt.title(label = 'Fund Returns')"
   ]
  },
  {
   "cell_type": "code",
   "execution_count": 263,
   "metadata": {},
   "outputs": [
    {
     "data": {
      "text/plain": [
       "count    3620.000000\n",
       "mean        0.050934\n",
       "std         0.062565\n",
       "min        -0.040766\n",
       "25%         0.009529\n",
       "50%         0.030179\n",
       "75%         0.069474\n",
       "max         0.713014\n",
       "dtype: float64"
      ]
     },
     "execution_count": 263,
     "metadata": {},
     "output_type": "execute_result"
    }
   ],
   "source": [
<<<<<<< HEAD
    "for i in range(5):\n",
    "    print(i)"
>>>>>>> b4d2d78d99f620a3292025de2790bdcb072328e6
=======
    "AF.describe()"
>>>>>>> efdde2f6761dac5735f1a82254e9c92c84765fe9
   ]
  },
  {
   "cell_type": "code",
   "execution_count": null,
   "metadata": {},
   "outputs": [],
   "source": []
  }
 ],
 "metadata": {
  "kernelspec": {
<<<<<<< HEAD
   "display_name": "Python [conda env:PythonData1]",
   "language": "python",
   "name": "conda-env-PythonData1-py"
=======
   "display_name": "Python 3",
   "language": "python",
   "name": "python3"
>>>>>>> b4d2d78d99f620a3292025de2790bdcb072328e6
  },
  "language_info": {
   "codemirror_mode": {
    "name": "ipython",
    "version": 3
   },
   "file_extension": ".py",
   "mimetype": "text/x-python",
   "name": "python",
   "nbconvert_exporter": "python",
   "pygments_lexer": "ipython3",
<<<<<<< HEAD
   "version": "3.6.10"
=======
   "version": "3.7.6"
>>>>>>> b4d2d78d99f620a3292025de2790bdcb072328e6
  }
 },
 "nbformat": 4,
 "nbformat_minor": 4
}
