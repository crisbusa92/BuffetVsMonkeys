{
 "cells": [
  {
   "cell_type": "code",
<<<<<<< HEAD
   "execution_count": 4,
=======
   "execution_count": 168,
>>>>>>> efdde2f6761dac5735f1a82254e9c92c84765fe9
   "metadata": {},
   "outputs": [],
   "source": [
    "import yfinance as yf\n",
    "import pandas as pd\n",
    "import matplotlib.pyplot as plt\n",
    "import random as rd\n",
<<<<<<< HEAD
    "import numpy as np\n"
=======
    "import numpy as np\n",
    "import seaborn as sns\n",
    "import matplotlib.ticker as ticker"
>>>>>>> efdde2f6761dac5735f1a82254e9c92c84765fe9
   ]
  },
  {
   "cell_type": "code",
<<<<<<< HEAD
   "execution_count": 5,
   "metadata": {
    "scrolled": false
   },
   "outputs": [
    {
     "data": {
      "text/html": [
       "<div>\n",
       "<style scoped>\n",
       "    .dataframe tbody tr th:only-of-type {\n",
       "        vertical-align: middle;\n",
       "    }\n",
       "\n",
       "    .dataframe tbody tr th {\n",
       "        vertical-align: top;\n",
       "    }\n",
       "\n",
       "    .dataframe thead th {\n",
       "        text-align: right;\n",
       "    }\n",
       "</style>\n",
       "<table border=\"1\" class=\"dataframe\">\n",
       "  <thead>\n",
       "    <tr style=\"text-align: right;\">\n",
       "      <th></th>\n",
       "      <th>Symbol</th>\n",
       "      <th>Name</th>\n",
       "      <th>LastSale</th>\n",
       "      <th>MarketCap</th>\n",
       "      <th>IPOyear</th>\n",
       "      <th>Sector</th>\n",
       "      <th>industry</th>\n",
       "      <th>Summary Quote</th>\n",
       "      <th>Unnamed: 8</th>\n",
       "      <th>Company Name</th>\n",
       "    </tr>\n",
       "  </thead>\n",
       "  <tbody>\n",
       "    <tr>\n",
       "      <th>0</th>\n",
       "      <td>DDD</td>\n",
       "      <td>3D Systems Corporation</td>\n",
       "      <td>6.80</td>\n",
       "      <td>$808.37M</td>\n",
       "      <td>NaN</td>\n",
       "      <td>Technology</td>\n",
       "      <td>Computer Software: Prepackaged Software</td>\n",
       "      <td>https://old.nasdaq.com/symbol/ddd</td>\n",
       "      <td>NaN</td>\n",
       "      <td>NaN</td>\n",
       "    </tr>\n",
       "    <tr>\n",
       "      <th>1</th>\n",
       "      <td>MMM</td>\n",
       "      <td>3M Company</td>\n",
       "      <td>163.24</td>\n",
       "      <td>$93.9B</td>\n",
       "      <td>NaN</td>\n",
       "      <td>Health Care</td>\n",
       "      <td>Medical/Dental Instruments</td>\n",
       "      <td>https://old.nasdaq.com/symbol/mmm</td>\n",
       "      <td>NaN</td>\n",
       "      <td>NaN</td>\n",
       "    </tr>\n",
       "    <tr>\n",
       "      <th>2</th>\n",
       "      <td>WBAI</td>\n",
       "      <td>500.com Limited</td>\n",
       "      <td>3.77</td>\n",
       "      <td>$162.11M</td>\n",
       "      <td>2013.0</td>\n",
       "      <td>Consumer Services</td>\n",
       "      <td>Services-Misc. Amusement &amp; Recreation</td>\n",
       "      <td>https://old.nasdaq.com/symbol/wbai</td>\n",
       "      <td>NaN</td>\n",
       "      <td>NaN</td>\n",
       "    </tr>\n",
       "    <tr>\n",
       "      <th>3</th>\n",
       "      <td>WUBA</td>\n",
       "      <td>58.com Inc.</td>\n",
       "      <td>55.18</td>\n",
       "      <td>$8.27B</td>\n",
       "      <td>2013.0</td>\n",
       "      <td>Technology</td>\n",
       "      <td>Computer Software: Programming, Data Processing</td>\n",
       "      <td>https://old.nasdaq.com/symbol/wuba</td>\n",
       "      <td>NaN</td>\n",
       "      <td>NaN</td>\n",
       "    </tr>\n",
       "    <tr>\n",
       "      <th>4</th>\n",
       "      <td>EGHT</td>\n",
       "      <td>8x8 Inc</td>\n",
       "      <td>16.42</td>\n",
       "      <td>$1.7B</td>\n",
       "      <td>NaN</td>\n",
       "      <td>Technology</td>\n",
       "      <td>EDP Services</td>\n",
       "      <td>https://old.nasdaq.com/symbol/eght</td>\n",
       "      <td>NaN</td>\n",
       "      <td>8x8 Inc</td>\n",
       "    </tr>\n",
       "  </tbody>\n",
       "</table>\n",
       "</div>"
      ],
      "text/plain": [
       "  Symbol                    Name  LastSale MarketCap  IPOyear  \\\n",
       "0    DDD  3D Systems Corporation      6.80  $808.37M      NaN   \n",
       "1    MMM              3M Company    163.24    $93.9B      NaN   \n",
       "2   WBAI         500.com Limited      3.77  $162.11M   2013.0   \n",
       "3   WUBA             58.com Inc.     55.18    $8.27B   2013.0   \n",
       "4   EGHT                 8x8 Inc     16.42     $1.7B      NaN   \n",
       "\n",
       "              Sector                                         industry  \\\n",
       "0         Technology          Computer Software: Prepackaged Software   \n",
       "1        Health Care                       Medical/Dental Instruments   \n",
       "2  Consumer Services            Services-Misc. Amusement & Recreation   \n",
       "3         Technology  Computer Software: Programming, Data Processing   \n",
       "4         Technology                                     EDP Services   \n",
       "\n",
       "                        Summary Quote  Unnamed: 8 Company Name  \n",
       "0   https://old.nasdaq.com/symbol/ddd         NaN          NaN  \n",
       "1   https://old.nasdaq.com/symbol/mmm         NaN          NaN  \n",
       "2  https://old.nasdaq.com/symbol/wbai         NaN          NaN  \n",
       "3  https://old.nasdaq.com/symbol/wuba         NaN          NaN  \n",
       "4  https://old.nasdaq.com/symbol/eght         NaN      8x8 Inc  "
      ]
     },
     "execution_count": 5,
     "metadata": {},
     "output_type": "execute_result"
    }
   ],
   "source": [
    "#Import CSV and Create Ticker List\n",
    "nyse = pd.read_csv('Resources/companylist.csv')\n",
    "nasdaq = pd.read_csv('Resources/NASDAQ.txt')\n",
    "tickers = pd.merge(nyse,nasdaq,how='outer',on=[\"Symbol\",\"Symbol\"])\n",
    "tickers.head()"
=======
   "execution_count": 48,
   "metadata": {
    "scrolled": false
   },
   "outputs": [],
   "source": [
    "#Import CSV and Create Ticker List\n",
    "SP500 = pd.read_csv('Resources/companylistsp500.csv')\n",
    "#nasdaq = pd.read_csv('Resources/NASDAQ.txt')\n",
    "tickers = list(SP500['Symbol'])\n"
   ]
  },
  {
   "cell_type": "code",
   "execution_count": 239,
   "metadata": {},
   "outputs": [],
   "source": [
    "#Import CSV and Create Ticker List\n",
    "fundsfile = pd.read_csv('Resources/funds.csv')\n",
    "#nasdaq = pd.read_csv('Resources/NASDAQ.txt')\n",
    "funds = pd.DataFrame(list(fundsfile['Symbol']))\n"
   ]
  },
  {
   "cell_type": "code",
   "execution_count": 214,
   "metadata": {},
   "outputs": [],
   "source": [
    "def sp500_returns(symbols,period = '5y'):\n",
    "    tickers_profit = []\n",
    "    for x in symbols:\n",
    "        ticker = yf.Ticker(x)\n",
    "        hist = ticker.history(period=period).dropna()\n",
    "        profit = (hist.loc[hist.index[len(hist)-1], 'Close']/hist.loc[hist.index[0], 'Close'])-1\n",
    "        tickers_profit.append(profit)\n",
    "    sp5y = pd.DataFrame()\n",
    "    sp5y['Ticker'] = list(symbols)\n",
    "    sp5y['5yr Return'] = tickers_profit\n",
    "    \n",
    "\n",
    "    return sp5y\n",
    "\n",
    "\n"
   ]
  },
  {
   "cell_type": "code",
   "execution_count": 240,
   "metadata": {},
   "outputs": [
    {
     "ename": "AttributeError",
     "evalue": "'int' object has no attribute 'upper'",
     "output_type": "error",
     "traceback": [
      "\u001b[0;31m---------------------------------------------------------------------------\u001b[0m",
      "\u001b[0;31mAttributeError\u001b[0m                            Traceback (most recent call last)",
      "\u001b[0;32m<ipython-input-240-d610131e82f0>\u001b[0m in \u001b[0;36m<module>\u001b[0;34m\u001b[0m\n\u001b[0;32m----> 1\u001b[0;31m \u001b[0mfundsDF\u001b[0m \u001b[0;34m=\u001b[0m \u001b[0msp500_returns\u001b[0m\u001b[0;34m(\u001b[0m\u001b[0msymbols\u001b[0m \u001b[0;34m=\u001b[0m \u001b[0mfunds\u001b[0m\u001b[0;34m,\u001b[0m\u001b[0mperiod\u001b[0m \u001b[0;34m=\u001b[0m \u001b[0;34m'20y'\u001b[0m\u001b[0;34m)\u001b[0m\u001b[0;34m\u001b[0m\u001b[0;34m\u001b[0m\u001b[0m\n\u001b[0m",
      "\u001b[0;32m<ipython-input-214-c70f5a32f03a>\u001b[0m in \u001b[0;36msp500_returns\u001b[0;34m(symbols, period)\u001b[0m\n\u001b[1;32m      2\u001b[0m     \u001b[0mtickers_profit\u001b[0m \u001b[0;34m=\u001b[0m \u001b[0;34m[\u001b[0m\u001b[0;34m]\u001b[0m\u001b[0;34m\u001b[0m\u001b[0;34m\u001b[0m\u001b[0m\n\u001b[1;32m      3\u001b[0m     \u001b[0;32mfor\u001b[0m \u001b[0mx\u001b[0m \u001b[0;32min\u001b[0m \u001b[0msymbols\u001b[0m\u001b[0;34m:\u001b[0m\u001b[0;34m\u001b[0m\u001b[0;34m\u001b[0m\u001b[0m\n\u001b[0;32m----> 4\u001b[0;31m         \u001b[0mticker\u001b[0m \u001b[0;34m=\u001b[0m \u001b[0myf\u001b[0m\u001b[0;34m.\u001b[0m\u001b[0mTicker\u001b[0m\u001b[0;34m(\u001b[0m\u001b[0mx\u001b[0m\u001b[0;34m)\u001b[0m\u001b[0;34m\u001b[0m\u001b[0;34m\u001b[0m\u001b[0m\n\u001b[0m\u001b[1;32m      5\u001b[0m         \u001b[0mhist\u001b[0m \u001b[0;34m=\u001b[0m \u001b[0mticker\u001b[0m\u001b[0;34m.\u001b[0m\u001b[0mhistory\u001b[0m\u001b[0;34m(\u001b[0m\u001b[0mperiod\u001b[0m\u001b[0;34m=\u001b[0m\u001b[0mperiod\u001b[0m\u001b[0;34m)\u001b[0m\u001b[0;34m.\u001b[0m\u001b[0mdropna\u001b[0m\u001b[0;34m(\u001b[0m\u001b[0;34m)\u001b[0m\u001b[0;34m\u001b[0m\u001b[0;34m\u001b[0m\u001b[0m\n\u001b[1;32m      6\u001b[0m         \u001b[0mprofit\u001b[0m \u001b[0;34m=\u001b[0m \u001b[0;34m(\u001b[0m\u001b[0mhist\u001b[0m\u001b[0;34m.\u001b[0m\u001b[0mloc\u001b[0m\u001b[0;34m[\u001b[0m\u001b[0mhist\u001b[0m\u001b[0;34m.\u001b[0m\u001b[0mindex\u001b[0m\u001b[0;34m[\u001b[0m\u001b[0mlen\u001b[0m\u001b[0;34m(\u001b[0m\u001b[0mhist\u001b[0m\u001b[0;34m)\u001b[0m\u001b[0;34m-\u001b[0m\u001b[0;36m1\u001b[0m\u001b[0;34m]\u001b[0m\u001b[0;34m,\u001b[0m \u001b[0;34m'Close'\u001b[0m\u001b[0;34m]\u001b[0m\u001b[0;34m/\u001b[0m\u001b[0mhist\u001b[0m\u001b[0;34m.\u001b[0m\u001b[0mloc\u001b[0m\u001b[0;34m[\u001b[0m\u001b[0mhist\u001b[0m\u001b[0;34m.\u001b[0m\u001b[0mindex\u001b[0m\u001b[0;34m[\u001b[0m\u001b[0;36m0\u001b[0m\u001b[0;34m]\u001b[0m\u001b[0;34m,\u001b[0m \u001b[0;34m'Close'\u001b[0m\u001b[0;34m]\u001b[0m\u001b[0;34m)\u001b[0m\u001b[0;34m-\u001b[0m\u001b[0;36m1\u001b[0m\u001b[0;34m\u001b[0m\u001b[0;34m\u001b[0m\u001b[0m\n",
      "\u001b[0;32m~/opt/anaconda3/lib/python3.7/site-packages/yfinance/base.py\u001b[0m in \u001b[0;36m__init__\u001b[0;34m(self, ticker)\u001b[0m\n\u001b[1;32m     44\u001b[0m \u001b[0;32mclass\u001b[0m \u001b[0mTickerBase\u001b[0m\u001b[0;34m(\u001b[0m\u001b[0;34m)\u001b[0m\u001b[0;34m:\u001b[0m\u001b[0;34m\u001b[0m\u001b[0;34m\u001b[0m\u001b[0m\n\u001b[1;32m     45\u001b[0m     \u001b[0;32mdef\u001b[0m \u001b[0m__init__\u001b[0m\u001b[0;34m(\u001b[0m\u001b[0mself\u001b[0m\u001b[0;34m,\u001b[0m \u001b[0mticker\u001b[0m\u001b[0;34m)\u001b[0m\u001b[0;34m:\u001b[0m\u001b[0;34m\u001b[0m\u001b[0;34m\u001b[0m\u001b[0m\n\u001b[0;32m---> 46\u001b[0;31m         \u001b[0mself\u001b[0m\u001b[0;34m.\u001b[0m\u001b[0mticker\u001b[0m \u001b[0;34m=\u001b[0m \u001b[0mticker\u001b[0m\u001b[0;34m.\u001b[0m\u001b[0mupper\u001b[0m\u001b[0;34m(\u001b[0m\u001b[0;34m)\u001b[0m\u001b[0;34m\u001b[0m\u001b[0;34m\u001b[0m\u001b[0m\n\u001b[0m\u001b[1;32m     47\u001b[0m         \u001b[0mself\u001b[0m\u001b[0;34m.\u001b[0m\u001b[0m_history\u001b[0m \u001b[0;34m=\u001b[0m \u001b[0;32mNone\u001b[0m\u001b[0;34m\u001b[0m\u001b[0;34m\u001b[0m\u001b[0m\n\u001b[1;32m     48\u001b[0m         \u001b[0mself\u001b[0m\u001b[0;34m.\u001b[0m\u001b[0m_base_url\u001b[0m \u001b[0;34m=\u001b[0m \u001b[0;34m'https://query1.finance.yahoo.com'\u001b[0m\u001b[0;34m\u001b[0m\u001b[0;34m\u001b[0m\u001b[0m\n",
      "\u001b[0;31mAttributeError\u001b[0m: 'int' object has no attribute 'upper'"
     ]
    }
   ],
   "source": [
    "\n",
    "#fundsDF = sp500_returns(symbols = funds,period = '20y')"
   ]
  },
  {
   "cell_type": "code",
   "execution_count": 49,
   "metadata": {},
   "outputs": [],
   "source": [
    "#generate random portfolios with nmonkeys number of portfolios and nstocks number of stocks\n",
    "\n",
    "def dart_monkeys(symbols,nmonkeys = 10,nstocks = 30):\n",
    "    #set random weights for each stock in monkey portfolio\n",
    "    weights = []\n",
    "    for i in range(nmonkeys):\n",
    "        randomlist = rd.sample(range(1, 99), nstocks)\n",
    "        dby = sum(randomlist)\n",
    "        rws = []\n",
    "        for x in randomlist:\n",
    "            rw = x/dby\n",
    "            rws.append(rw)\n",
    "        weights.append(rws)\n",
    "    #Select random stocks for each stock in monkey portfolio\n",
    "    stocks = []\n",
    "    for stock in range(nmonkeys):\n",
    "        randomS = rd.sample(symbols, nstocks)\n",
    "        stocks.append(randomS)\n",
    "    out = []\n",
    "    #Generate DICT list with random stocks and weights\n",
    "    for i in range (nmonkeys):\n",
    "        d = dict(zip(stocks[i],weights[i]))\n",
    "        out.append(d)\n",
    "    \n",
    "    return out\n"
   ]
  },
  {
   "cell_type": "code",
   "execution_count": 50,
   "metadata": {},
   "outputs": [],
   "source": [
    "changos = dart_monkeys(nmonkeys = 100000,nstocks = 10,symbols = tickers)"
   ]
  },
  {
   "cell_type": "code",
   "execution_count": 40,
   "metadata": {},
   "outputs": [],
   "source": [
    "#definir en documentación estructura de DF\n",
    "def monkey_returns(DF,diclist):\n",
    "    returns = []\n",
    "    for x in diclist:\n",
    "        #Obtaining Weights\n",
    "        suma = 0\n",
    "        for y in x.keys():\n",
    "            #Sum \n",
    "            suma += float(DF[DF['Ticker'] == y]['5yr Return']) * x[y]\n",
    "        suma = suma/len(x.keys())\n",
    "        returns.append(suma)\n",
    "\n",
    "    return returns\n"
   ]
  },
  {
   "cell_type": "code",
   "execution_count": 84,
   "metadata": {},
   "outputs": [],
   "source": [
    "changosr = monkey_returns(tickersDF,changos)"
   ]
  },
  {
   "cell_type": "code",
   "execution_count": 217,
   "metadata": {},
   "outputs": [],
   "source": [
    "def annualizer(listOfReturns,YearlyPeriod):\n",
    "    annualizedr = []\n",
    "    for x in listOfReturns:    \n",
    "        a = x/YearlyPeriod\n",
    "        annualizedr.append(a)\n",
    "    return annualizedr"
   ]
  },
  {
   "cell_type": "code",
   "execution_count": 85,
   "metadata": {},
   "outputs": [
    {
     "data": {
      "text/plain": [
       "<matplotlib.axes._subplots.AxesSubplot at 0x7fdb77e5d590>"
      ]
     },
     "execution_count": 85,
     "metadata": {},
     "output_type": "execute_result"
    },
    {
     "data": {
      "image/png": "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\n",
      "text/plain": [
       "<Figure size 432x288 with 1 Axes>"
      ]
     },
     "metadata": {
      "needs_background": "light"
     },
     "output_type": "display_data"
    }
   ],
   "source": [
    "sns.boxplot(data = annualizedr)"
>>>>>>> efdde2f6761dac5735f1a82254e9c92c84765fe9
   ]
  },
  {
   "cell_type": "code",
<<<<<<< HEAD
   "execution_count": 6,
=======
   "execution_count": 102,
>>>>>>> efdde2f6761dac5735f1a82254e9c92c84765fe9
   "metadata": {},
   "outputs": [
    {
     "data": {
      "text/plain": [
<<<<<<< HEAD
       "6093"
      ]
     },
     "execution_count": 6,
=======
       "count    100000.000000\n",
       "mean          0.079747\n",
       "std           0.089164\n",
       "min           0.002333\n",
       "25%           0.035430\n",
       "50%           0.054769\n",
       "75%           0.087653\n",
       "max           1.336013\n",
       "dtype: float64"
      ]
     },
     "execution_count": 102,
>>>>>>> efdde2f6761dac5735f1a82254e9c92c84765fe9
     "metadata": {},
     "output_type": "execute_result"
    }
   ],
   "source": [
<<<<<<< HEAD
    "tickers2 = list(nyse['Symbol'])+list(nasdaq['Symbol'])\n",
    "\n",
    "len(tickers2)"
=======
    "seriesr = pd.Series(annualizedr) \n",
    "seriesr.describe()"
>>>>>>> efdde2f6761dac5735f1a82254e9c92c84765fe9
   ]
  },
  {
   "cell_type": "code",
<<<<<<< HEAD
   "execution_count": 7,
   "metadata": {},
   "outputs": [
    {
     "name": "stdout",
     "output_type": "stream",
     "text": [
      "Do you want to 1) build your own portfolio, or do you want 2) a monkey to help you with? Choose either 1 or 2: 1\n",
      "How many Companies do you want to be in your portfolio?: 2\n",
      "Please select your Ticker: ddd\n",
      "Please select your Ticker: mmm\n",
      "Its time to choose the weight for each one of your choices!\n",
      "To allow this game to function properly, please enter your weights in decimals\n",
      "And remember, the sum must be exactly 1! Not more, not less\n",
      "Please input weight for DDD: 0.8\n",
      "Please input weight for MMM: 0.2\n",
      "Great! We are ready to play! Here is a summary of your choices!\n",
      "  Ticker  Weight\n",
      "0    DDD     0.8\n",
      "1    MMM     0.2\n"
     ]
    }
   ],
   "source": [
    "#Ask user for first choice (whether build their own portfolio, or have a monkey doing it)\n",
    "while True:\n",
    "    fch = input(\"Do you want to 1) build your own portfolio, or do you want 2) a monkey to help you with? Choose either 1 or 2: \")\n",
    "    if fch != str(1) and fch != str(2):\n",
    "        print(f'Please choose a valid option')\n",
    "        continue\n",
    "    else:\n",
    "        break\n",
    "\n",
    "#User wants to build their own portfolio\n",
    "if fch == \"1\":\n",
    "#Ask how many Companies he/she wants\n",
    "        while True:\n",
    "            numInput = input(\"How many Companies do you want to be in your portfolio?: \")\n",
    "            if int(numInput) <= 1:\n",
    "                print(\"You must have at least two Companies in your portfolio! Please choose again.\")\n",
    "                continue\n",
    "            else:\n",
    "                break\n",
    "    \n",
    "#Allow the user to input their Companies, limited by numInput\n",
    "\n",
    "        nyse_df = pd.DataFrame(nyse)\n",
    "        tckrs = []\n",
    "        for comps in range(int(numInput)):\n",
    "                compsInput = input(f'Please select your Ticker: ' ).upper()\n",
    "                tckrs.append(compsInput)\n",
    "\n",
    "\n",
    "\n",
    "#Corroborate that the Tickers are in the DataFrame\n",
    "        for x in tckrs:\n",
    "            tickers.loc[tickers[\"Symbol\"]==x]\n",
    "            if x not in tickers.values:\n",
    "                print(f'Ticker {x} does not exist. Please try again.')\n",
    "                break\n",
    "            else:\n",
    "                continue\n",
    "        \n",
    "        \n",
    "#Allow the user to input the weight for their choices.\n",
    "        print(f'Its time to choose the weight for each one of your choices!')\n",
    "        print(f'To allow this game to function properly, please enter your weights in decimals')\n",
    "        print(f'And remember, the sum must be exactly 1! Not more, not less')\n",
    "\n",
    "        wgh = []\n",
    "        for y in tckrs:\n",
    "            num_wgh = input(f'Please input weight for {y}: ')\n",
    "            wgh.append(float(num_wgh))\n",
    "\n",
    "#Corroborate the conditions of the sum. Sum equal to 1\n",
    "        a = sum(wgh)\n",
    "        \n",
    "\n",
    "        if a > 1:\n",
    "            print(\"Sum is greater than 1! Please corroborate your data\")\n",
    "                \n",
    "        elif a < 1:\n",
    "            print(\"Sum is less than 1! Please corroborate your data\")\n",
    "                \n",
    "        else:\n",
    "                \n",
    "            print(\"Great! We are ready to play! Here is a summary of your choices!\")\n",
    "                \n",
    "            d = {'Ticker':tckrs,'Weight':wgh}\n",
    "\n",
    "        summary_d = pd.DataFrame(d)\n",
    "        print(summary_d)\n",
    "\n",
    "elif fch == \"2\":\n",
    "#Ask how many Companies he/she wants\n",
    "    while True:\n",
    "        numInput = input(\"How many Companies do you want to be in your portfolio?: \")\n",
    "        if int(numInput) <= 1:\n",
    "            print(\"You must have at least two Companies in your portfolio! Please choose again.\")\n",
    "            continue\n",
    "        else:\n",
    "            break\n",
    "            \n",
    "    print('Perfect! lets allow our monkey to do its magic! Here are the monkeys choices: ')\n",
    "    \n",
    "    rndm = tickers.sample(n = int(numInput), random_state = 1930)\n",
    "    rndm_s = pd.Series(rndm[\"Symbol\"])\n",
    "    print(rndm_s)\n",
    "    \n",
    "#Ask if they want to input the weight, or if it should be random\n",
    "    cho2 = input('Do you want to 1) input your own weights, or do you want 2) the monkey to do it? Choose 1 or 2: ')\n",
    "           \n",
    "    if cho2 == \"1\":\n",
    "        wgh = []\n",
    "        for y in rndm_s:\n",
    "            num_wgh = input(f'Please input weight for {y}: ')\n",
    "            wgh.append(float(num_wgh))\n",
    "            \n",
    "#Corroborate the conditions of the sum. Sum equal to 1\n",
    "         \n",
    "        a = sum(wgh)\n",
    "\n",
    "        if a > 1:\n",
    "            print(\"Sum is greater than 1! Please corroborate your data\")\n",
    "                \n",
    "        elif a < 1:\n",
    "            print(\"Sum is less than 1! Please corroborate your data\")\n",
    "                \n",
    "        else:\n",
    "                \n",
    "            print(\"Great! We are ready to play! Here is a summary of your choices!\")\n",
    "                \n",
    "            d = {'Ticker':rndm_s,'Weight':wgh}\n",
    "            summary_d = pd.DataFrame(d)\n",
    "            print(summary_d)\n",
    "\n",
    "\n",
    "        \n",
    "#Random choice of weights        \n",
    "    elif cho2 == \"2\":\n",
    "        rs = np.random.dirichlet(np.ones(int(numInput)))*1\n",
    "    \n",
    "        print(\"Great! We are ready to play! Here is a summary of the monkeys choices!\")\n",
    "        d = {'Ticker':rndm_s,'Weight':rs}\n",
    "\n",
    "        summary_d = pd.DataFrame(d)\n",
    "        print(summary_d)"
=======
   "execution_count": 146,
   "metadata": {},
   "outputs": [
    {
     "data": {
      "image/png": "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\n",
      "text/plain": [
       "<Figure size 432x288 with 1 Axes>"
      ]
     },
     "metadata": {
      "needs_background": "light"
     },
     "output_type": "display_data"
    }
   ],
   "source": [
    "# fixed bin size\n",
    "bins = np.arange(-1, 1, 0.001) # fixed bin size\n",
    "\n",
    "plt.xlim([-0.05,0.75])\n",
    "\n",
    "plt.hist(annualizedr, bins=bins, alpha=1)\n",
    "plt.title('Random Stocks Return')\n",
    "plt.xlabel(\"Annualized Return\")\n",
    "plt.ylabel('Count')\n",
    "plt.axvline(seriesr.mean(), color='k', linestyle='dashed', linewidth=2, animated = True)\n",
    "plt.axvline(seriesr.median(), color='g', linestyle='dashed', linewidth=2, animated = True)\n",
    "plt.axvline(0.032, color='y', linestyle='dashed', linewidth=2, animated = True)\n",
    "plt.axvline(0.064, color='r', linestyle='dashed', linewidth=2, animated = True)\n",
    "plt.show()"
>>>>>>> efdde2f6761dac5735f1a82254e9c92c84765fe9
   ]
  },
  {
   "cell_type": "code",
<<<<<<< HEAD
   "execution_count": 28,
=======
   "execution_count": 90,
>>>>>>> efdde2f6761dac5735f1a82254e9c92c84765fe9
   "metadata": {},
   "outputs": [
    {
     "data": {
      "text/plain": [
<<<<<<< HEAD
       "{'Ticker': 359      BNED\n",
       " 2737      TDS\n",
       " 5717     TFSC\n",
       " 2221      PDM\n",
       " 2375      RYN\n",
       " 4952     NEWP\n",
       " 5676     SYNT\n",
       " 4049     ESYS\n",
       " 486       BYD\n",
       " 4361     HCCI\n",
       " 1685    LGC.U\n",
       " 2160     PANW\n",
       " 494       BDN\n",
       " 4429     HTHT\n",
       " 869     DCP^B\n",
       " 3934     DVCR\n",
       " 1520    IPV.U\n",
       " 5507     SHOS\n",
       " 1025      EEX\n",
       " 106       AYX\n",
       " 3127      AAL\n",
       " 2329    PSA^J\n",
       " 2587     SOJC\n",
       " 3884     DGLD\n",
       " 3096       WK\n",
       " 4005     EMMS\n",
       " 3428      BDE\n",
       " 2232      PHK\n",
       " 4152     FMER\n",
       " 4311     GRMN\n",
       " Name: Symbol, dtype: object,\n",
       " 'Weight': array([0.06868416, 0.05587387, 0.06229616, 0.09070055, 0.01423746,\n",
       "        0.07119357, 0.04687469, 0.00028319, 0.00106124, 0.03332879,\n",
       "        0.05368499, 0.0536735 , 0.11383379, 0.05894667, 0.00997075,\n",
       "        0.00324018, 0.00128988, 0.00943889, 0.0239252 , 0.00064332,\n",
       "        0.01928715, 0.02202717, 0.02471446, 0.00424912, 0.00471481,\n",
       "        0.05235832, 0.0298668 , 0.02989914, 0.00981248, 0.0298897 ])}"
      ]
     },
     "execution_count": 28,
     "metadata": {},
     "output_type": "execute_result"
    }
   ],
   "source": [
    "dwer"
=======
       "<matplotlib.axes._subplots.AxesSubplot at 0x7fdb5f146150>"
      ]
     },
     "execution_count": 90,
     "metadata": {},
     "output_type": "execute_result"
    },
    {
     "data": {
      "image/png": "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\n",
      "text/plain": [
       "<Figure size 432x288 with 1 Axes>"
      ]
     },
     "metadata": {
      "needs_background": "light"
     },
     "output_type": "display_data"
    }
   ],
   "source": [
    "sns.distplot(annualizedr, hist=False, rug=False)"
>>>>>>> efdde2f6761dac5735f1a82254e9c92c84765fe9
   ]
  },
  {
   "cell_type": "code",
<<<<<<< HEAD
   "execution_count": null,
   "metadata": {
    "scrolled": true
   },
   "outputs": [],
   "source": [
    "#Set Seed\n",
    "rd.seed(a=1930)\n",
    "\n",
    "#make Random Portfolios\n",
    "stocks = []\n",
    "weights = []\n",
    "for stock in range(1000):\n",
    "    randomS = rd.sample(tickers, 30)\n",
    "    stocks.append(randomS)\n",
    "    randomW = list(np.random.dirichlet(np.ones(30),size=1))\n",
    "    weights.append(randomW)\n"
=======
   "execution_count": 132,
   "metadata": {},
   "outputs": [],
   "source": [
    "def no_ticker_data(symbols,period = '5y'):\n",
    "    tickers_profit = []\n",
    "    Not_Available_Data = []\n",
    "    for x in symbols:\n",
    "        try:\n",
    "            ticker = yf.Ticker(x)\n",
    "            hist = ticker.history(period=period).dropna()\n",
    "            profit = (hist.loc[hist.index[len(hist)-1], 'Close']/hist.loc[hist.index[0], 'Close'])-1\n",
    "            tickers_profit.append(profit)\n",
    "        \n",
    "        except:\n",
    "            Not_Available_Data.append(x)\n",
    "    return Not_Available_Data\n"
>>>>>>> efdde2f6761dac5735f1a82254e9c92c84765fe9
   ]
  },
  {
   "cell_type": "code",
   "execution_count": null,
   "metadata": {},
   "outputs": [],
<<<<<<< HEAD
   "source": []
  },
  {
   "cell_type": "code",
   "execution_count": null,
   "metadata": {},
   "outputs": [],
   "source": []
=======
   "source": [
    "NAs = no_ticker_data(symbols = funds,period = '2d')"
   ]
  },
  {
   "cell_type": "code",
   "execution_count": 151,
   "metadata": {},
   "outputs": [],
   "source": [
    "def remove_outlier(df_in, col_name):\n",
    "    q1 = df_in[col_name].quantile(0.25)\n",
    "    q3 = df_in[col_name].quantile(0.75)\n",
    "    iqr = q3-q1 #Interquartile range\n",
    "    fence_low  = q1-1.5*iqr\n",
    "    fence_high = q3+1.5*iqr\n",
    "    df_out = df_in.loc[(df_in[col_name] > fence_low) & (df_in[col_name] < fence_high)]\n",
    "    return df_out"
   ]
  },
  {
   "cell_type": "code",
   "execution_count": 200,
   "metadata": {},
   "outputs": [
    {
     "data": {
      "text/plain": [
       "Text(0.5, 1.0, 'Monkey Returns')"
      ]
     },
     "execution_count": 200,
     "metadata": {},
     "output_type": "execute_result"
    },
    {
     "data": {
      "image/png": "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\n",
      "text/plain": [
       "<Figure size 432x288 with 1 Axes>"
      ]
     },
     "metadata": {
      "needs_background": "light"
     },
     "output_type": "display_data"
    }
   ],
   "source": [
    "yroutliers = remove_outlier(andf,0)\n",
    "sns.boxplot(data = yroutliers)\n",
    "plt.axhline(0.05892, color='k', linestyle='dashed', linewidth=2, animated = True,label='Mean')\n",
    "#plt.axhline(0.0509, color='violet', linestyle='dashed', linewidth=2, animated = True,label='Median')\n",
    "plt.axhline(0.032, color='y', linestyle='dashed', linewidth=2, animated = True, label='USD Inflation')\n",
    "plt.axhline(0.064, color='r', linestyle='dashed', linewidth=2, animated = True,label='SPY Return')\n",
    "plt.legend(loc ='upper right')\n",
    "plt.title(label = 'Monkey Returns')\n"
   ]
  },
  {
   "cell_type": "code",
   "execution_count": 196,
   "metadata": {},
   "outputs": [
    {
     "data": {
      "text/plain": [
       "0    0.050939\n",
       "dtype: float64"
      ]
     },
     "execution_count": 196,
     "metadata": {},
     "output_type": "execute_result"
    }
   ],
   "source": [
    "yroutliers.median()"
   ]
>>>>>>> efdde2f6761dac5735f1a82254e9c92c84765fe9
  }
 ],
 "metadata": {
  "kernelspec": {
<<<<<<< HEAD
   "display_name": "Python [conda env:PythonData1]",
   "language": "python",
   "name": "conda-env-PythonData1-py"
=======
   "display_name": "Python 3",
   "language": "python",
   "name": "python3"
>>>>>>> efdde2f6761dac5735f1a82254e9c92c84765fe9
  },
  "language_info": {
   "codemirror_mode": {
    "name": "ipython",
    "version": 3
   },
   "file_extension": ".py",
   "mimetype": "text/x-python",
   "name": "python",
   "nbconvert_exporter": "python",
   "pygments_lexer": "ipython3",
<<<<<<< HEAD
   "version": "3.6.10"
=======
   "version": "3.7.6"
>>>>>>> efdde2f6761dac5735f1a82254e9c92c84765fe9
  }
 },
 "nbformat": 4,
 "nbformat_minor": 4
}
