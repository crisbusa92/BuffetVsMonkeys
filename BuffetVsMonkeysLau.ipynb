{
 "cells": [
  {
   "cell_type": "code",
   "execution_count": 3,
   "metadata": {},
   "outputs": [],
   "source": [
    "import yfinance as yf\n",
    "import pandas as pd\n",
    "import matplotlib.pyplot as plt\n",
    "import random as rd\n",
    "import numpy as np\n"
   ]
  },
  {
   "cell_type": "code",
   "execution_count": 4,
   "metadata": {
    "scrolled": false
   },
   "outputs": [
    {
     "data": {
      "text/html": [
       "<div>\n",
       "<style scoped>\n",
       "    .dataframe tbody tr th:only-of-type {\n",
       "        vertical-align: middle;\n",
       "    }\n",
       "\n",
       "    .dataframe tbody tr th {\n",
       "        vertical-align: top;\n",
       "    }\n",
       "\n",
       "    .dataframe thead th {\n",
       "        text-align: right;\n",
       "    }\n",
       "</style>\n",
       "<table border=\"1\" class=\"dataframe\">\n",
       "  <thead>\n",
       "    <tr style=\"text-align: right;\">\n",
       "      <th></th>\n",
       "      <th>Symbol</th>\n",
       "      <th>Company Name_x</th>\n",
       "      <th>Industry</th>\n",
       "      <th>Company Name_y</th>\n",
       "    </tr>\n",
       "  </thead>\n",
       "  <tbody>\n",
       "    <tr>\n",
       "      <th>0</th>\n",
       "      <td>MMM</td>\n",
       "      <td>3M Company</td>\n",
       "      <td>Industrials</td>\n",
       "      <td>NaN</td>\n",
       "    </tr>\n",
       "    <tr>\n",
       "      <th>1</th>\n",
       "      <td>MMM</td>\n",
       "      <td>3M Company</td>\n",
       "      <td>163.24</td>\n",
       "      <td>NaN</td>\n",
       "    </tr>\n",
       "    <tr>\n",
       "      <th>2</th>\n",
       "      <td>AOS</td>\n",
       "      <td>A.O. Smith Corp</td>\n",
       "      <td>Industrials</td>\n",
       "      <td>NaN</td>\n",
       "    </tr>\n",
       "    <tr>\n",
       "      <th>3</th>\n",
       "      <td>ABT</td>\n",
       "      <td>Abbott Laboratories</td>\n",
       "      <td>Health Care</td>\n",
       "      <td>NaN</td>\n",
       "    </tr>\n",
       "    <tr>\n",
       "      <th>4</th>\n",
       "      <td>ABBV</td>\n",
       "      <td>AbbVie Inc.</td>\n",
       "      <td>Health Care</td>\n",
       "      <td>NaN</td>\n",
       "    </tr>\n",
       "  </tbody>\n",
       "</table>\n",
       "</div>"
      ],
      "text/plain": [
       "  Symbol       Company Name_x     Industry Company Name_y\n",
       "0    MMM           3M Company  Industrials            NaN\n",
       "1    MMM           3M Company       163.24            NaN\n",
       "2    AOS      A.O. Smith Corp  Industrials            NaN\n",
       "3    ABT  Abbott Laboratories  Health Care            NaN\n",
       "4   ABBV          AbbVie Inc.  Health Care            NaN"
      ]
     },
     "execution_count": 4,
     "metadata": {},
     "output_type": "execute_result"
    }
   ],
   "source": [
    "#Import CSV and Create Ticker List\n",
    "nyse = pd.read_csv('Resources/companylist.csv')\n",
    "nasdaq = pd.read_csv('Resources/NASDAQ.txt')\n",
    "tickers = pd.merge(nyse,nasdaq,how='outer',on=[\"Symbol\",\"Symbol\"])\n",
    "tickers.head()"
   ]
  },
  {
   "cell_type": "code",
   "execution_count": 5,
   "metadata": {},
   "outputs": [
    {
     "data": {
      "text/plain": [
       "5629"
      ]
     },
     "execution_count": 5,
     "metadata": {},
     "output_type": "execute_result"
    }
   ],
   "source": [
    "tickers2 = list(nyse['Symbol'])+list(nasdaq['Symbol'])\n",
    "\n",
    "len(tickers2)"
   ]
  },
  {
   "cell_type": "code",
   "execution_count": 30,
   "metadata": {},
   "outputs": [
    {
     "name": "stdout",
     "output_type": "stream",
     "text": [
      "Do you want to 1) build your own portfolio, or do you want 2) a monkey to help you with? Choose either 1 or 2: 2\n",
      "How many Companies do you want to be in your portfolio?: 2\n",
      "Perfect! lets allow our monkey to do its magic! Here are the monkeys choices: \n",
      "['MS', 'ADMA']\n",
      "Do you want to 1) input your own weights, or do you want 2) the monkey to do it? Choose 1 or 2: 2\n",
      "Great! We are ready to play! Here is a summary of the monkeys choices!\n",
      "MS      0.760447\n",
      "ADMA    0.239553\n",
      "dtype: float64\n"
     ]
    }
   ],
   "source": [
    "#Ask user for first choice (whether build their own portfolio, or have a monkey doing it)\n",
    "while True:\n",
    "    fch = input(\"Do you want to 1) build your own portfolio, or do you want 2) a monkey to help you with? Choose either 1 or 2: \")\n",
    "    if fch != str(1) and fch != str(2):\n",
    "        print(f'Please choose a valid option')\n",
    "        continue\n",
    "    else:\n",
    "        break\n",
    "\n",
    "#User wants to build their own portfolio\n",
    "if fch == \"1\":\n",
    "#Ask how many Companies he/she wants\n",
    "        while True:\n",
    "            numInput = input(\"How many Companies do you want to be in your portfolio?: \")\n",
    "            if int(numInput) <= 1:\n",
    "                print(\"You must have at least two Companies in your portfolio! Please choose again.\")\n",
    "                continue\n",
    "            else:\n",
    "                break\n",
    "    \n",
    "#Allow the user to input their Companies, limited by numInput\n",
    "\n",
    "        nyse_df = pd.DataFrame(nyse)\n",
    "        tckrs = []\n",
    "        for comps in range(int(numInput)):\n",
    "                compsInput = input(f'Please select your Ticker: ' ).upper()\n",
    "                tckrs.append(compsInput)\n",
    "\n",
    "\n",
    "\n",
    "#Corroborate that the Tickers are in the DataFrame\n",
    "        for x in tckrs:\n",
    "            tickers.loc[tickers[\"Symbol\"]==x]\n",
    "            if x not in tickers.values:\n",
    "                print(f'Ticker {x} does not exist. Please try again.')\n",
    "                break\n",
    "            else:\n",
    "                continue\n",
    "        \n",
    "        \n",
    "#Allow the user to input the weight for their choices.\n",
    "        print(f'Its time to choose the weight for each one of your choices!')\n",
    "        print(f'To allow this game to function properly, please enter your weights in decimals')\n",
    "        print(f'And remember, the sum must be exactly 1! Not more, not less')\n",
    "\n",
    "        wgh = []\n",
    "        for y in tckrs:\n",
    "            num_wgh = input(f'Please input weight for {y}: ')\n",
    "            wgh.append(float(num_wgh))\n",
    "\n",
    "#Corroborate the conditions of the sum. Sum equal to 1\n",
    "        a = sum(wgh)\n",
    "        \n",
    "\n",
    "        if a > 1:\n",
    "            print(\"Sum is greater than 1! Please corroborate your data\")\n",
    "                \n",
    "        elif a < 1:\n",
    "            print(\"Sum is less than 1! Please corroborate your data\")\n",
    "                \n",
    "        else:\n",
    "                \n",
    "            print(\"Great! We are ready to play! Here is a summary of your choices!\")\n",
    "                \n",
    "            d = {'Ticker':tckrs,'Weight':wgh}\n",
    "\n",
    "        summary_d = pd.DataFrame(d)\n",
    "        print(summary_d)\n",
    "\n",
    "elif fch == \"2\":\n",
    "#Ask how many Companies he/she wants\n",
    "    while True:\n",
    "        numInput = input(\"How many Companies do you want to be in your portfolio?: \")\n",
    "        if int(numInput) <= 1:\n",
    "            print(\"You must have at least two Companies in your portfolio! Please choose again.\")\n",
    "            continue\n",
    "        else:\n",
    "            break\n",
    "            \n",
    "    print('Perfect! lets allow our monkey to do its magic! Here are the monkeys choices: ')\n",
    "    \n",
    "    rndm = tickers.sample(n = int(numInput), random_state = 1930)\n",
    "    rndm_s = list(rndm[\"Symbol\"])\n",
    "    print(rndm_s)\n",
    "    \n",
    "#Ask if they want to input the weight, or if it should be random\n",
    "    cho2 = input('Do you want to 1) input your own weights, or do you want 2) the monkey to do it? Choose 1 or 2: ')\n",
    "           \n",
    "    if cho2 == \"1\":\n",
    "        wgh = []\n",
    "        for y in rndm_s:\n",
    "            num_wgh = input(f'Please input weight for {y}: ')\n",
    "            wgh.append(float(num_wgh))\n",
    "            \n",
    "#Corroborate the conditions of the sum. Sum equal to 1\n",
    "         \n",
    "        a = sum(wgh)\n",
    "\n",
    "        if a > 1:\n",
    "            print(\"Sum is greater than 1! Please corroborate your data\")\n",
    "                \n",
    "        elif a < 1:\n",
    "            print(\"Sum is less than 1! Please corroborate your data\")\n",
    "                \n",
    "        else:\n",
    "                \n",
    "            print(\"Great! We are ready to play! Here is a summary of your choices!\")\n",
    "                \n",
    "            d = {'Ticker':rndm_s,'Weight':wgh}\n",
    "            summary_d = pd.DataFrame(d)\n",
    "            print(summary_d)\n",
    "\n",
    "\n",
    "        \n",
    "#Random choice of weights        \n",
    "    elif cho2 == \"2\":\n",
    "        rs = list(np.random.dirichlet(np.ones(int(numInput)))*1)\n",
    "    \n",
    "        print(\"Great! We are ready to play! Here is a summary of the monkeys choices!\")\n",
    "        \n",
    "        \n",
    "        d = dict(zip(rndm_s,rs))\n",
    "            \n",
    "\n",
    "        #d = {'Ticker':rndm_s,'Weight':rs}\n",
    "\n",
    "        summary_d = pd.Series(d)\n",
    "        print(summary_d)"
   ]
  },
  {
   "cell_type": "code",
   "execution_count": 31,
   "metadata": {},
   "outputs": [
    {
     "data": {
      "text/plain": [
       "{'MS': 0.7604472661132445, 'ADMA': 0.2395527338867555}"
      ]
     },
     "execution_count": 31,
     "metadata": {},
     "output_type": "execute_result"
    }
   ],
   "source": [
    "d"
   ]
  },
  {
   "cell_type": "code",
   "execution_count": null,
   "metadata": {
    "scrolled": true
   },
   "outputs": [],
   "source": [
    "#Set Seed\n",
    "rd.seed(a=1930)\n",
    "\n",
    "#make Random Portfolios\n",
    "stocks = []\n",
    "weights = []\n",
    "for stock in range(1000):\n",
    "    randomS = rd.sample(tickers, 30)\n",
    "    stocks.append(randomS)\n",
    "    randomW = list(np.random.dirichlet(np.ones(30),size=1))\n",
    "    weights.append(randomW)\n"
   ]
  },
  {
   "cell_type": "code",
   "execution_count": null,
   "metadata": {},
   "outputs": [],
   "source": []
  },
  {
   "cell_type": "code",
   "execution_count": 16,
   "metadata": {},
   "outputs": [
    {
     "ename": "AttributeError",
     "evalue": "'list' object has no attribute 'dtypes'",
     "output_type": "error",
     "traceback": [
      "\u001b[0;31m---------------------------------------------------------------------------\u001b[0m",
      "\u001b[0;31mAttributeError\u001b[0m                            Traceback (most recent call last)",
      "\u001b[0;32m<ipython-input-16-c570ce40357e>\u001b[0m in \u001b[0;36m<module>\u001b[0;34m\u001b[0m\n\u001b[1;32m      1\u001b[0m \u001b[0ms\u001b[0m \u001b[0;34m=\u001b[0m \u001b[0mlist\u001b[0m\u001b[0;34m(\u001b[0m\u001b[0mnp\u001b[0m\u001b[0;34m.\u001b[0m\u001b[0mrandom\u001b[0m\u001b[0;34m.\u001b[0m\u001b[0mdirichlet\u001b[0m\u001b[0;34m(\u001b[0m\u001b[0mnp\u001b[0m\u001b[0;34m.\u001b[0m\u001b[0mones\u001b[0m\u001b[0;34m(\u001b[0m\u001b[0mint\u001b[0m\u001b[0;34m(\u001b[0m\u001b[0mnumInput\u001b[0m\u001b[0;34m)\u001b[0m\u001b[0;34m)\u001b[0m\u001b[0;34m)\u001b[0m\u001b[0;34m*\u001b[0m\u001b[0;36m1\u001b[0m\u001b[0;34m)\u001b[0m\u001b[0;34m\u001b[0m\u001b[0;34m\u001b[0m\u001b[0m\n\u001b[0;32m----> 2\u001b[0;31m \u001b[0ms\u001b[0m\u001b[0;34m.\u001b[0m\u001b[0mdtypes\u001b[0m\u001b[0;34m\u001b[0m\u001b[0;34m\u001b[0m\u001b[0m\n\u001b[0m",
      "\u001b[0;31mAttributeError\u001b[0m: 'list' object has no attribute 'dtypes'"
     ]
    }
   ],
   "source": [
    "s = list(np.random.dirichlet(np.ones(int(numInput)))*1)\n",
    "s.dtypes"
   ]
  },
  {
   "cell_type": "code",
   "execution_count": null,
   "metadata": {},
   "outputs": [],
   "source": []
  }
 ],
 "metadata": {
  "kernelspec": {
   "display_name": "Python 3",
   "language": "python",
   "name": "python3"
  },
  "language_info": {
   "codemirror_mode": {
    "name": "ipython",
    "version": 3
   },
   "file_extension": ".py",
   "mimetype": "text/x-python",
   "name": "python",
   "nbconvert_exporter": "python",
   "pygments_lexer": "ipython3",
   "version": "3.7.6"
  }
 },
 "nbformat": 4,
 "nbformat_minor": 4
}
