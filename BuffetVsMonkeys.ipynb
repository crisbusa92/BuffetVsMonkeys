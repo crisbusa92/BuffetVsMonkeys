{
 "cells": [
  {
   "cell_type": "code",
   "execution_count": 146,
   "metadata": {},
   "outputs": [],
   "source": [
    "import yfinance as yf\n",
    "import pandas as pd\n",
    "import matplotlib.pyplot as plt\n",
    "import random as rd\n",
    "import numpy as np\n"
   ]
  },
  {
   "cell_type": "code",
   "execution_count": 147,
   "metadata": {
    "scrolled": false
   },
   "outputs": [],
   "source": [
    "#Import CSV and Create Ticker List\n",
    "SP500 = pd.read_csv('Resources/companylist.csv')\n",
    "#nasdaq = pd.read_csv('Resources/NASDAQ.txt')\n",
    "tickers = list(SP500['Symbol'])\n",
    "\n"
   ]
  },
  {
   "cell_type": "code",
   "execution_count": 148,
   "metadata": {
    "scrolled": true
   },
   "outputs": [],
   "source": [
    "#Set Seed\n",
    "\n",
    "\n",
    "#Choose Random Stocks\n",
    "stocks = []\n",
    "for stock in range(10):\n",
    "    randomS = rd.sample(tickers, 30)\n",
    "    stocks.append(randomS)\n",
    "\n"
   ]
  },
  {
   "cell_type": "code",
   "execution_count": 149,
   "metadata": {},
   "outputs": [],
   "source": [
    "#Generate random weights\n",
    "#Set Seed\n",
    "\n",
    "#Generate list of lists of random numbers\n",
    "weights = []\n",
    "for i in range(10):\n",
    "    randomlist = rd.sample(range(1, 99), 30)\n",
    "    dby = sum(randomlist)\n",
    "    rws = []\n",
    "    for i in randomlist:\n",
    "        rw = i/dby\n",
    "        rws.append(rw)\n",
    "    weights.append(rws)\n",
    "\n",
    "        "
   ]
  },
  {
   "cell_type": "code",
   "execution_count": 150,
   "metadata": {},
   "outputs": [],
   "source": [
    "#Create Portfolios\n",
    "out = []\n",
    "for i in range (2):\n",
    "    d = dict(zip(stocks[i],weights[i]))\n",
    "    out.append(d)\n"
   ]
  },
  {
   "cell_type": "code",
   "execution_count": 151,
   "metadata": {},
   "outputs": [
    {
     "name": "stdout",
     "output_type": "stream",
     "text": [
      "- JIH.WS: No data found, symbol may be delisted\n",
      "- TREB.U: No data found, symbol may be delisted\n",
      "- GSAH.U: No data found, symbol may be delisted\n"
     ]
    }
   ],
   "source": [
    "fprofit = []\n",
    "NA = []\n",
    "for x in out:\n",
    "    tickers = list(x.keys())\n",
    "    tw = list(x.values())\n",
    "    for y in range(len(tickers)):\n",
    "        try:\n",
    "            ticker = yf.Ticker(tickers[y])\n",
    "            hist = ticker.history(period=\"5y\")\n",
    "            profit = 1-(hist.loc[hist.index[y], 'Close']/hist.loc[hist.index[len(hist)-1], 'Close'])\n",
    "            profit*tw[y]\n",
    "            fprofit.append(profit)\n",
    "        except:\n",
    "            NA.append(tickers[y])\n"
   ]
  },
  {
   "cell_type": "code",
   "execution_count": 152,
   "metadata": {},
   "outputs": [],
   "source": [
    "tw = list(tp.values())\n"
   ]
  },
  {
   "cell_type": "code",
   "execution_count": null,
   "metadata": {},
   "outputs": [],
   "source": []
  }
 ],
 "metadata": {
  "kernelspec": {
   "display_name": "Python 3",
   "language": "python",
   "name": "python3"
  },
  "language_info": {
   "codemirror_mode": {
    "name": "ipython",
    "version": 3
   },
   "file_extension": ".py",
   "mimetype": "text/x-python",
   "name": "python",
   "nbconvert_exporter": "python",
   "pygments_lexer": "ipython3",
   "version": "3.7.6"
  }
 },
 "nbformat": 4,
 "nbformat_minor": 4
}
