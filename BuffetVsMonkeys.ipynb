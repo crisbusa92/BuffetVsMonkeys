{
 "cells": [
  {
   "cell_type": "code",
   "execution_count": 107,
   "metadata": {},
   "outputs": [],
   "source": [
    "import yfinance as yf\n",
    "import pandas as pd\n",
    "import matplotlib.pyplot as plt\n",
    "import random as rd\n",
    "import numpy as np\n",
    "#Set Seed\n",
    "rd.seed(1930)"
   ]
  },
  {
   "cell_type": "code",
   "execution_count": 108,
   "metadata": {
    "scrolled": false
   },
   "outputs": [],
   "source": [
    "#Import CSV and Create Ticker List\n",
    "SP500 = pd.read_csv('Resources/companylistsp500.csv')\n",
    "#nasdaq = pd.read_csv('Resources/NASDAQ.txt')\n",
    "tickers = list(SP500['Symbol'])"
   ]
  },
  {
   "cell_type": "code",
   "execution_count": 109,
   "metadata": {},
   "outputs": [],
   "source": [
    "def sp500_returns(period = '5y'):\n",
    "    tickers = list(SP500['Symbol'])\n",
    "    tickers_profit = []\n",
    "    for i in tickers:\n",
    "        ticker = yf.Ticker(i)\n",
    "        hist = ticker.history(period=period)\n",
    "        profit = (hist.loc[hist.index[len(hist)-1], 'Close']/hist.loc[hist.index[0], 'Close'])-1\n",
    "        tickers_profit.append(profit)\n",
    "    sp5y = pd.DataFrame()\n",
    "    sp5y['Ticker'] = list(tickers)\n",
    "    sp5y['5yr Return'] = tickers_profit\n",
    "    \n",
    "\n",
    "    return sp5y\n"
   ]
  },
  {
   "cell_type": "code",
   "execution_count": 110,
   "metadata": {},
   "outputs": [],
   "source": [
    "#generate random portfolios with nmonkeys number of portfolios and nstocks number of stocks\n",
    "\n",
    "def dart_monkeys(nmonkeys = 10,nstocks = 30):\n",
    "    #set random weights for each stock in monkey portfolio\n",
    "    weights = []\n",
    "    for i in range(nmonkeys):\n",
    "        randomlist = rd.sample(range(1, 99), nstocks)\n",
    "        dby = sum(randomlist)\n",
    "        rws = []\n",
    "        for x in randomlist:\n",
    "            rw = x/dby\n",
    "            rws.append(rw)\n",
    "        weights.append(rws)\n",
    "    #Select random stocks for each stock in monkey portfolio\n",
    "    weights = []\n",
    "    stocks = []\n",
    "    for stock in range(nmonkeys):\n",
    "        randomS = rd.sample(tickers, nstocks)\n",
    "        stocks.append(randomS)\n",
    "    out = []\n",
    "    #Generate DICT list with random stocks and weights\n",
    "    for i in range (nmonkeys):\n",
    "        d = dict(zip(stocks[i],weights[i]))\n",
    "        out.append(d)\n",
    "    \n",
    "    return out\n"
   ]
  },
  {
   "cell_type": "code",
   "execution_count": 125,
   "metadata": {},
   "outputs": [
    {
     "data": {
      "text/plain": [
       "[{'MPC': 0.40131578947368424,\n",
       "  'LKQ': 0.5131578947368421,\n",
       "  'MKTX': 0.08552631578947369},\n",
       " {'SO': 0.17482517482517482,\n",
       "  'KR': 0.6573426573426573,\n",
       "  'NEM': 0.16783216783216784}]"
      ]
     },
     "execution_count": 125,
     "metadata": {},
     "output_type": "execute_result"
    }
   ],
   "source": [
    "test = dart_monkeys(nmonkeys = 2,nstocks = 3)\n",
    "test\n"
   ]
  },
  {
   "cell_type": "code",
   "execution_count": 147,
   "metadata": {},
   "outputs": [
    {
     "ename": "TypeError",
     "evalue": "list indices must be integers or slices, not dict",
     "output_type": "error",
     "traceback": [
      "\u001b[0;31m---------------------------------------------------------------------------\u001b[0m",
      "\u001b[0;31mTypeError\u001b[0m                                 Traceback (most recent call last)",
      "\u001b[0;32m<ipython-input-147-e30930b3b02b>\u001b[0m in \u001b[0;36m<module>\u001b[0;34m\u001b[0m\n\u001b[1;32m      1\u001b[0m \u001b[0mreturns\u001b[0m \u001b[0;34m=\u001b[0m \u001b[0;34m[\u001b[0m\u001b[0;34m]\u001b[0m\u001b[0;34m\u001b[0m\u001b[0;34m\u001b[0m\u001b[0m\n\u001b[1;32m      2\u001b[0m \u001b[0;32mfor\u001b[0m \u001b[0mi\u001b[0m \u001b[0;32min\u001b[0m \u001b[0mtest\u001b[0m\u001b[0;34m:\u001b[0m\u001b[0;34m\u001b[0m\u001b[0;34m\u001b[0m\u001b[0m\n\u001b[0;32m----> 3\u001b[0;31m     \u001b[0mstock\u001b[0m\u001b[0;34m=\u001b[0m\u001b[0mlist\u001b[0m\u001b[0;34m(\u001b[0m\u001b[0mtest\u001b[0m\u001b[0;34m[\u001b[0m\u001b[0mi\u001b[0m\u001b[0;34m]\u001b[0m\u001b[0;34m.\u001b[0m\u001b[0mkeys\u001b[0m\u001b[0;34m(\u001b[0m\u001b[0;34m)\u001b[0m\u001b[0;34m)\u001b[0m\u001b[0;34m\u001b[0m\u001b[0;34m\u001b[0m\u001b[0m\n\u001b[0m\u001b[1;32m      4\u001b[0m     \u001b[0mweight\u001b[0m\u001b[0;34m=\u001b[0m\u001b[0mtest\u001b[0m\u001b[0;34m[\u001b[0m\u001b[0mi\u001b[0m\u001b[0;34m]\u001b[0m\u001b[0;34m.\u001b[0m\u001b[0mvalues\u001b[0m\u001b[0;34m(\u001b[0m\u001b[0;34m)\u001b[0m\u001b[0;34m\u001b[0m\u001b[0;34m\u001b[0m\u001b[0m\n\u001b[1;32m      5\u001b[0m     \u001b[0;32mfor\u001b[0m \u001b[0mx\u001b[0m \u001b[0;32min\u001b[0m \u001b[0mlen\u001b[0m\u001b[0;34m(\u001b[0m\u001b[0mtest\u001b[0m\u001b[0;34m[\u001b[0m\u001b[0mi\u001b[0m\u001b[0;34m]\u001b[0m\u001b[0;34m)\u001b[0m\u001b[0;34m:\u001b[0m\u001b[0;34m\u001b[0m\u001b[0;34m\u001b[0m\u001b[0m\n",
      "\u001b[0;31mTypeError\u001b[0m: list indices must be integers or slices, not dict"
     ]
    }
   ],
   "source": [
    "returns = []\n",
    "for i in test:\n",
    "    stock=list(test[i].keys())  \n",
    "    weight=test[i].values()\n",
    "    for x in len(test[i]):\n",
    "        a = sp500.loc[sp500['Ticker']==stock[x-1],'5yr Return']*weight[x-1]\n",
    "        returns.append(a)\n",
    "returns"
   ]
  },
  {
   "cell_type": "code",
   "execution_count": null,
   "metadata": {},
   "outputs": [],
   "source": [
    "#calculate average return for the whole portfolio\n",
    "#if i mod 30 corte en la lista y genere una nueva lista\n",
    "for x in out:\n",
    "    tickers = list(x.keys())\n",
    "    tw = list(x.values())\n",
    "    \n"
   ]
  },
  {
   "cell_type": "code",
   "execution_count": null,
   "metadata": {},
   "outputs": [],
   "source": [
    "rend_USUARIO = 0.037\n",
    "rend_Changos = [0.066,0.066,0.066,0.066,0.066,0.066,0.066,0.066,0.066,0.066,0.066,0.066,0.066,0.066,0.066,0.066]\n",
    "rend_expertos = [0.055,0.066,0.055,0.066,0.055,0.066,0.055,0.066,0.055,0.066,0.055,0.066,0.055,0.066,0.055,0.066]\n",
    "PromedioRSPY = 0.05"
   ]
  },
  {
   "cell_type": "code",
   "execution_count": 149,
   "metadata": {},
   "outputs": [
    {
     "data": {
      "text/plain": [
       "['MPC', 'LKQ', 'MKTX']"
      ]
     },
     "execution_count": 149,
     "metadata": {},
     "output_type": "execute_result"
    }
   ],
   "source": [
    "stock=list(test[0].keys())  \n",
    "stock"
   ]
  },
  {
   "cell_type": "code",
   "execution_count": 151,
   "metadata": {},
   "outputs": [
    {
     "name": "stdout",
     "output_type": "stream",
     "text": [
      "0\n",
      "1\n",
      "2\n",
      "3\n",
      "4\n"
     ]
    }
   ],
   "source": [
    "for i in range(5):\n",
    "    print(i)"
   ]
  },
  {
   "cell_type": "code",
   "execution_count": null,
   "metadata": {},
   "outputs": [],
   "source": []
  }
 ],
 "metadata": {
  "kernelspec": {
   "display_name": "Python 3",
   "language": "python",
   "name": "python3"
  },
  "language_info": {
   "codemirror_mode": {
    "name": "ipython",
    "version": 3
   },
   "file_extension": ".py",
   "mimetype": "text/x-python",
   "name": "python",
   "nbconvert_exporter": "python",
   "pygments_lexer": "ipython3",
   "version": "3.7.6"
  }
 },
 "nbformat": 4,
 "nbformat_minor": 4
}
