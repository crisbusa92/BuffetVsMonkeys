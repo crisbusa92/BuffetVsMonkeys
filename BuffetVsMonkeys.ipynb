{
 "cells": [
  {
   "cell_type": "code",
   "execution_count": 1,
   "metadata": {},
   "outputs": [],
   "source": [
    "import yfinance as yf\n",
    "import pandas as pd\n",
    "import matplotlib.pyplot as plt\n",
    "import random as rd\n",
    "import numpy as np\n",
    "#Set Seed\n",
    "rd.seed(1930)"
   ]
  },
  {
   "cell_type": "code",
   "execution_count": 2,
   "metadata": {
    "scrolled": false
   },
   "outputs": [],
   "source": [
    "#Import CSV and Create Ticker List\n",
    "SP500 = pd.read_csv('Resources/companylistsp500.csv')\n",
    "#nasdaq = pd.read_csv('Resources/NASDAQ.txt')\n",
    "tickers = list(SP500['Symbol'].iloc[:10])"
   ]
  },
  {
   "cell_type": "code",
   "execution_count": 3,
   "metadata": {},
   "outputs": [
    {
     "data": {
      "text/html": [
       "<div>\n",
       "<style scoped>\n",
       "    .dataframe tbody tr th:only-of-type {\n",
       "        vertical-align: middle;\n",
       "    }\n",
       "\n",
       "    .dataframe tbody tr th {\n",
       "        vertical-align: top;\n",
       "    }\n",
       "\n",
       "    .dataframe thead th {\n",
       "        text-align: right;\n",
       "    }\n",
       "</style>\n",
       "<table border=\"1\" class=\"dataframe\">\n",
       "  <thead>\n",
       "    <tr style=\"text-align: right;\">\n",
       "      <th></th>\n",
       "      <th>Ticker</th>\n",
       "      <th>5yr Return</th>\n",
       "    </tr>\n",
       "  </thead>\n",
       "  <tbody>\n",
       "    <tr>\n",
       "      <th>0</th>\n",
       "      <td>MMM</td>\n",
       "      <td>0.198781</td>\n",
       "    </tr>\n",
       "    <tr>\n",
       "      <th>1</th>\n",
       "      <td>ABT</td>\n",
       "      <td>1.244342</td>\n",
       "    </tr>\n",
       "    <tr>\n",
       "      <th>2</th>\n",
       "      <td>ABBV</td>\n",
       "      <td>0.696997</td>\n",
       "    </tr>\n",
       "    <tr>\n",
       "      <th>3</th>\n",
       "      <td>ABMD</td>\n",
       "      <td>2.360899</td>\n",
       "    </tr>\n",
       "    <tr>\n",
       "      <th>4</th>\n",
       "      <td>ACN</td>\n",
       "      <td>1.434533</td>\n",
       "    </tr>\n",
       "    <tr>\n",
       "      <th>5</th>\n",
       "      <td>ATVI</td>\n",
       "      <td>2.038559</td>\n",
       "    </tr>\n",
       "    <tr>\n",
       "      <th>6</th>\n",
       "      <td>ADBE</td>\n",
       "      <td>4.469157</td>\n",
       "    </tr>\n",
       "    <tr>\n",
       "      <th>7</th>\n",
       "      <td>AMD</td>\n",
       "      <td>39.431280</td>\n",
       "    </tr>\n",
       "    <tr>\n",
       "      <th>8</th>\n",
       "      <td>AAP</td>\n",
       "      <td>-0.109415</td>\n",
       "    </tr>\n",
       "    <tr>\n",
       "      <th>9</th>\n",
       "      <td>AES</td>\n",
       "      <td>0.496599</td>\n",
       "    </tr>\n",
       "  </tbody>\n",
       "</table>\n",
       "</div>"
      ],
      "text/plain": [
       "  Ticker  5yr Return\n",
       "0    MMM    0.198781\n",
       "1    ABT    1.244342\n",
       "2   ABBV    0.696997\n",
       "3   ABMD    2.360899\n",
       "4    ACN    1.434533\n",
       "5   ATVI    2.038559\n",
       "6   ADBE    4.469157\n",
       "7    AMD   39.431280\n",
       "8    AAP   -0.109415\n",
       "9    AES    0.496599"
      ]
     },
     "execution_count": 3,
     "metadata": {},
     "output_type": "execute_result"
    }
   ],
   "source": [
    "def sp500_returns(symbols,period = '5y'):\n",
    "    tickers_profit = []\n",
    "    for x in symbols:\n",
    "        ticker = yf.Ticker(x)\n",
    "        hist = ticker.history(period=period)\n",
    "        profit = (hist.loc[hist.index[len(hist)-1], 'Close']/hist.loc[hist.index[0], 'Close'])-1\n",
    "        tickers_profit.append(profit)\n",
    "    sp5y = pd.DataFrame()\n",
    "    sp5y['Ticker'] = list(symbols)\n",
    "    sp5y['5yr Return'] = tickers_profit\n",
    "    \n",
    "\n",
    "    return sp5y\n",
    "\n",
    "tickersDF = sp500_returns(period = '5y',symbols=tickers)\n",
    "tickersDF"
   ]
  },
  {
   "cell_type": "code",
   "execution_count": 6,
   "metadata": {},
   "outputs": [],
   "source": [
    "#generate random portfolios with nmonkeys number of portfolios and nstocks number of stocks\n",
    "\n",
    "def dart_monkeys(symbols,nmonkeys = 10,nstocks = 30):\n",
    "    #set random weights for each stock in monkey portfolio\n",
    "    weights = []\n",
    "    for i in range(nmonkeys):\n",
    "        randomlist = rd.sample(range(1, 99), nstocks)\n",
    "        dby = sum(randomlist)\n",
    "        rws = []\n",
    "        for x in randomlist:\n",
    "            rw = x/dby\n",
    "            rws.append(rw)\n",
    "        weights.append(rws)\n",
    "    #Select random stocks for each stock in monkey portfolio\n",
    "    stocks = []\n",
    "    for stock in range(nmonkeys):\n",
    "        randomS = rd.sample(symbols, nstocks)\n",
    "        stocks.append(randomS)\n",
    "    out = []\n",
    "    #Generate DICT list with random stocks and weights\n",
    "    for i in range (nmonkeys):\n",
    "        d = dict(zip(stocks[i],weights[i]))\n",
    "        out.append(d)\n",
    "    \n",
    "    return out\n"
   ]
  },
  {
   "cell_type": "code",
   "execution_count": 7,
   "metadata": {},
   "outputs": [
    {
     "data": {
      "text/plain": [
       "[{'ATVI': 0.16243654822335024,\n",
       "  'ACN': 0.4416243654822335,\n",
       "  'AES': 0.39593908629441626},\n",
       " {'AAP': 0.4426229508196721,\n",
       "  'ACN': 0.4808743169398907,\n",
       "  'AMD': 0.07650273224043716},\n",
       " {'AES': 0.7777777777777778,\n",
       "  'ABT': 0.19444444444444445,\n",
       "  'ABMD': 0.027777777777777776},\n",
       " {'ABBV': 0.3945578231292517,\n",
       "  'AAP': 0.16326530612244897,\n",
       "  'MMM': 0.4421768707482993},\n",
       " {'ACN': 0.18072289156626506,\n",
       "  'MMM': 0.5903614457831325,\n",
       "  'ABBV': 0.2289156626506024}]"
      ]
     },
     "execution_count": 7,
     "metadata": {},
     "output_type": "execute_result"
    }
   ],
   "source": [
    "test = dart_monkeys(nmonkeys = 5,nstocks = 3,symbols = tickers)\n",
    "test"
   ]
  },
  {
   "cell_type": "code",
   "execution_count": 19,
   "metadata": {},
   "outputs": [],
   "source": [
    "#definir en documentación estructura de DF\n",
    "def monkey_returns(DF,diclist):\n",
    "    returns = []\n",
    "    for x in diclist:\n",
    "        #Obtaining Weights\n",
    "        suma = 0\n",
    "        for y in x.keys():\n",
    "            #Sum \n",
    "            suma += float(DF[DF['Ticker'] == y]['5yr Return'] * x[y])\n",
    "        returns.append(suma)\n",
    "\n",
    "    return returns\n"
   ]
  },
  {
   "cell_type": "code",
   "execution_count": 20,
   "metadata": {},
   "outputs": [
    {
     "data": {
      "text/plain": [
       "[1.1612838119249276,\n",
       " 3.6580008019511565,\n",
       " 0.6937792858865907,\n",
       " 0.34503825302659064,\n",
       " 0.5361589888809528]"
      ]
     },
     "execution_count": 20,
     "metadata": {},
     "output_type": "execute_result"
    }
   ],
   "source": [
    "monkey_returns(tickersDF,test)"
   ]
  },
  {
   "cell_type": "code",
   "execution_count": null,
   "metadata": {},
   "outputs": [],
   "source": [
    "rend_USUARIO = 0.037\n",
    "rend_Changos = [0.066,0.066,0.066,0.066,0.066,0.066,0.066,0.066,0.066,0.066,0.066,0.066,0.066,0.066,0.066,0.066]\n",
    "rend_expertos = [0.055,0.066,0.055,0.066,0.055,0.066,0.055,0.066,0.055,0.066,0.055,0.066,0.055,0.066,0.055,0.066]\n",
    "PromedioRSPY = 0.05"
   ]
  },
  {
   "cell_type": "code",
   "execution_count": null,
   "metadata": {},
   "outputs": [],
   "source": [
    "stock=list(test[0].keys())  \n",
    "stock"
   ]
  },
  {
   "cell_type": "code",
   "execution_count": null,
   "metadata": {},
   "outputs": [],
   "source": [
    "for i in range(5):\n",
    "    print(i)"
   ]
  },
  {
   "cell_type": "code",
   "execution_count": null,
   "metadata": {},
   "outputs": [],
   "source": []
  }
 ],
 "metadata": {
  "kernelspec": {
   "display_name": "Python 3",
   "language": "python",
   "name": "python3"
  },
  "language_info": {
   "codemirror_mode": {
    "name": "ipython",
    "version": 3
   },
   "file_extension": ".py",
   "mimetype": "text/x-python",
   "name": "python",
   "nbconvert_exporter": "python",
   "pygments_lexer": "ipython3",
   "version": "3.7.6"
  }
 },
 "nbformat": 4,
 "nbformat_minor": 4
}
